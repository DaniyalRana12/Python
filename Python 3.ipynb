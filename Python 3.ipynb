{
 "cells": [
  {
   "cell_type": "code",
   "execution_count": 8,
   "id": "e825d55e",
   "metadata": {},
   "outputs": [
    {
     "name": "stdout",
     "output_type": "stream",
     "text": [
      "Enter value of x: \n",
      "8\n",
      "Enter value of y: \n",
      "6\n",
      "8 is greater than 6 is smaller\n"
     ]
    }
   ],
   "source": [
    "#Program to calculate \n",
    "#maximum and minimum of enterend numbers\n",
    "x=int(input(\"Enter value of x: \\n\"))\n",
    "y=int(input(\"Enter value of y: \\n\"))\n",
    "if x > y:\n",
    "    print(x,\"is greater than\",y,\"is smaller\")\n",
    "else:\n",
    "        print(y,\"is greater than\",x,\"is smaller\")"
   ]
  },
  {
   "cell_type": "code",
   "execution_count": null,
   "id": "030efa09",
   "metadata": {},
   "outputs": [],
   "source": []
  }
 ],
 "metadata": {
  "kernelspec": {
   "display_name": "Python 3 (ipykernel)",
   "language": "python",
   "name": "python3"
  },
  "language_info": {
   "codemirror_mode": {
    "name": "ipython",
    "version": 3
   },
   "file_extension": ".py",
   "mimetype": "text/x-python",
   "name": "python",
   "nbconvert_exporter": "python",
   "pygments_lexer": "ipython3",
   "version": "3.9.7"
  }
 },
 "nbformat": 4,
 "nbformat_minor": 5
}
