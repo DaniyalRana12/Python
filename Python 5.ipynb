{
 "cells": [
  {
   "cell_type": "code",
   "execution_count": 1,
   "id": "affe80ec",
   "metadata": {},
   "outputs": [
    {
     "name": "stdout",
     "output_type": "stream",
     "text": [
      "Enter value of x: \n",
      "8\n",
      "Enter value of y: \n",
      "5\n",
      "The value of x after swapping: \n",
      " 5\n",
      "The value of y after swapping: \n",
      " 8\n"
     ]
    }
   ],
   "source": [
    "#Prograam to Swap Variables\n",
    "x=int(input(\"Enter value of x: \\n\"))\n",
    "y=int(input(\"Enter value of y: \\n\"))\n",
    "temp = x\n",
    "x = y\n",
    "y = temp\n",
    "print(\"The value of x after swapping: \\n\",x) \n",
    "print(\"The value of y after swapping: \\n\",y)"
   ]
  },
  {
   "cell_type": "code",
   "execution_count": null,
   "id": "dd6a7812",
   "metadata": {},
   "outputs": [],
   "source": []
  }
 ],
 "metadata": {
  "kernelspec": {
   "display_name": "Python 3 (ipykernel)",
   "language": "python",
   "name": "python3"
  },
  "language_info": {
   "codemirror_mode": {
    "name": "ipython",
    "version": 3
   },
   "file_extension": ".py",
   "mimetype": "text/x-python",
   "name": "python",
   "nbconvert_exporter": "python",
   "pygments_lexer": "ipython3",
   "version": "3.9.7"
  }
 },
 "nbformat": 4,
 "nbformat_minor": 5
}
