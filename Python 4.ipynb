{
 "cells": [
  {
   "cell_type": "code",
   "execution_count": 1,
   "id": "3439ca12",
   "metadata": {},
   "outputs": [
    {
     "name": "stdout",
     "output_type": "stream",
     "text": [
      "Enter Length: \n",
      "9\n",
      "Enter Width: \n",
      "6\n",
      "Area of Rectangle is:  54.0\n",
      "Enter Base: \n",
      "3\n",
      "Enter Height: \n",
      "2\n",
      "Area of triangle is:  3.0\n",
      "Enter Side of Square:  \n",
      "3\n",
      "Area of Square is:  9.0\n",
      "Enter Side of Cube:  \n",
      "6\n",
      "Area of Cube is:  216.0\n"
     ]
    }
   ],
   "source": [
    "#Program to calculate areas\n",
    "x=float(input(\"Enter Length: \\n\"))\n",
    "y=float(input(\"Enter Width: \\n\"))\n",
    "z=x*y\n",
    "print(\"Area of Rectangle is: \",z)\n",
    "x=float(input(\"Enter Base: \\n\"))\n",
    "y=float(input(\"Enter Height: \\n\"))\n",
    "z=0.5*(x*y)\n",
    "print(\"Area of triangle is: \",z)\n",
    "x=float(input(\"Enter Side of Square:  \\n\"))\n",
    "z=x*x\n",
    "print(\"Area of Square is: \",z)\n",
    "x=float(input(\"Enter Side of Cube:  \\n\"))\n",
    "z=6*(x*x)\n",
    "print(\"Area of Cube is: \",z)"
   ]
  },
  {
   "cell_type": "code",
   "execution_count": null,
   "id": "473f5334",
   "metadata": {},
   "outputs": [],
   "source": []
  },
  {
   "cell_type": "code",
   "execution_count": null,
   "id": "e8dea614",
   "metadata": {},
   "outputs": [],
   "source": []
  }
 ],
 "metadata": {
  "kernelspec": {
   "display_name": "Python 3 (ipykernel)",
   "language": "python",
   "name": "python3"
  },
  "language_info": {
   "codemirror_mode": {
    "name": "ipython",
    "version": 3
   },
   "file_extension": ".py",
   "mimetype": "text/x-python",
   "name": "python",
   "nbconvert_exporter": "python",
   "pygments_lexer": "ipython3",
   "version": "3.9.7"
  }
 },
 "nbformat": 4,
 "nbformat_minor": 5
}
