{
 "cells": [
  {
   "cell_type": "code",
   "execution_count": 17,
   "id": "2b4ce7b2",
   "metadata": {},
   "outputs": [
    {
     "name": "stdout",
     "output_type": "stream",
     "text": [
      "Required Strings are: \n",
      "2\n"
     ]
    }
   ],
   "source": [
    "# Program to find the string 2 or greater and have same starting\n",
    "#and ending\n",
    "\n",
    "def match_words(words):\n",
    "    ctr = 0\n",
    "    for word in words:\n",
    "        if len(word) > 1 and word[0] == word[-1]:\n",
    "            ctr += 1\n",
    "    return ctr\n",
    "print(\"Required Strings are: \")\n",
    "print(match_words(['abc', 'xyz', 'aba', '1221']))"
   ]
  },
  {
   "cell_type": "code",
   "execution_count": 18,
   "id": "5fe51133",
   "metadata": {},
   "outputs": [
    {
     "name": "stdout",
     "output_type": "stream",
     "text": [
      "Max num is: \n",
      "8\n"
     ]
    }
   ],
   "source": [
    "def max_num(list):\n",
    "    max = list[0]\n",
    "    for a in list:\n",
    "        if a > max:\n",
    "            max = a\n",
    "    return max\n",
    "print(\"Max num is: \")\n",
    "print(max_num([1, 2, 8, 0]))"
   ]
  },
  {
   "cell_type": "code",
   "execution_count": 20,
   "id": "4de94d76",
   "metadata": {},
   "outputs": [
    {
     "name": "stdout",
     "output_type": "stream",
     "text": [
      "Min num is: \n",
      "1\n"
     ]
    }
   ],
   "source": [
    "def min_num(list):\n",
    "    min = list[0]\n",
    "    for a in list:\n",
    "        if a < min:\n",
    "            min = a\n",
    "    return min\n",
    "print(\"Min num is: \")\n",
    "print(min_num([1, 2, 8, 4]))"
   ]
  },
  {
   "cell_type": "code",
   "execution_count": null,
   "id": "2f29ff43",
   "metadata": {},
   "outputs": [],
   "source": []
  }
 ],
 "metadata": {
  "kernelspec": {
   "display_name": "Python 3 (ipykernel)",
   "language": "python",
   "name": "python3"
  },
  "language_info": {
   "codemirror_mode": {
    "name": "ipython",
    "version": 3
   },
   "file_extension": ".py",
   "mimetype": "text/x-python",
   "name": "python",
   "nbconvert_exporter": "python",
   "pygments_lexer": "ipython3",
   "version": "3.9.7"
  }
 },
 "nbformat": 4,
 "nbformat_minor": 5
}
