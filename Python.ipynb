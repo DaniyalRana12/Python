{
 "cells": [
  {
   "cell_type": "code",
   "execution_count": 1,
   "id": "fa85802c",
   "metadata": {},
   "outputs": [
    {
     "name": "stdout",
     "output_type": "stream",
     "text": [
      "Length of the string is: 2\n"
     ]
    }
   ],
   "source": [
    "#Program to count the number of words\n",
    "#without using len() length statement\n",
    "string=\"Python is Amazing\"\n",
    "count=0\n",
    "for i in string:\n",
    "    if i==\" \":\n",
    "        count=count+1\n",
    "print(\"Length of the string is:\" ,count)"
   ]
  },
  {
   "cell_type": "code",
   "execution_count": null,
   "id": "6e85d2bc",
   "metadata": {},
   "outputs": [],
   "source": []
  }
 ],
 "metadata": {
  "kernelspec": {
   "display_name": "Python 3 (ipykernel)",
   "language": "python",
   "name": "python3"
  },
  "language_info": {
   "codemirror_mode": {
    "name": "ipython",
    "version": 3
   },
   "file_extension": ".py",
   "mimetype": "text/x-python",
   "name": "python",
   "nbconvert_exporter": "python",
   "pygments_lexer": "ipython3",
   "version": "3.9.7"
  }
 },
 "nbformat": 4,
 "nbformat_minor": 5
}
