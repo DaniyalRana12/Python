{
 "cells": [
  {
   "cell_type": "code",
   "execution_count": 1,
   "id": "7ea75490",
   "metadata": {},
   "outputs": [],
   "source": [
    "# How to make list and use of list\n",
    "# Use of string \n",
    "# Delete, remove and Pop\n",
    "lst=[0,1,2,3,4]"
   ]
  },
  {
   "cell_type": "code",
   "execution_count": 2,
   "id": "1d4bfa9c",
   "metadata": {},
   "outputs": [
    {
     "data": {
      "text/plain": [
       "[0, 1, 2, 3, 4]"
      ]
     },
     "execution_count": 2,
     "metadata": {},
     "output_type": "execute_result"
    }
   ],
   "source": [
    "lst"
   ]
  },
  {
   "cell_type": "code",
   "execution_count": 3,
   "id": "0a98254c",
   "metadata": {},
   "outputs": [],
   "source": [
    "lst=[3.14,2,3,5.67]"
   ]
  },
  {
   "cell_type": "code",
   "execution_count": 4,
   "id": "70c274ad",
   "metadata": {},
   "outputs": [
    {
     "data": {
      "text/plain": [
       "[3.14, 2, 3, 5.67]"
      ]
     },
     "execution_count": 4,
     "metadata": {},
     "output_type": "execute_result"
    }
   ],
   "source": [
    "lst"
   ]
  },
  {
   "cell_type": "code",
   "execution_count": 18,
   "id": "b1b589a7",
   "metadata": {},
   "outputs": [],
   "source": [
    "# we can also add string the the existing list \n",
    "lst=lst+[\"Usman\",\"Haider\",\"Ali\"]"
   ]
  },
  {
   "cell_type": "code",
   "execution_count": 19,
   "id": "62fe0a44",
   "metadata": {},
   "outputs": [
    {
     "data": {
      "text/plain": [
       "[3.14,\n",
       " 2,\n",
       " 12,\n",
       " 3,\n",
       " 5.67,\n",
       " 'Ai',\n",
       " ['umt', 'ucp', 'uol', 'pucit'],\n",
       " ['a', 'b', 'c', 'd'],\n",
       " 'Usman',\n",
       " 'Haider',\n",
       " 'Ali']"
      ]
     },
     "execution_count": 19,
     "metadata": {},
     "output_type": "execute_result"
    }
   ],
   "source": [
    "lst"
   ]
  },
  {
   "cell_type": "code",
   "execution_count": 20,
   "id": "b33acf06",
   "metadata": {},
   "outputs": [],
   "source": [
    "# we use qppend to add elements in the exixting data\n",
    "lst.append(['a','b','c','d'])"
   ]
  },
  {
   "cell_type": "code",
   "execution_count": 21,
   "id": "717b2ada",
   "metadata": {},
   "outputs": [
    {
     "data": {
      "text/plain": [
       "[3.14,\n",
       " 2,\n",
       " 12,\n",
       " 3,\n",
       " 5.67,\n",
       " 'Ai',\n",
       " ['umt', 'ucp', 'uol', 'pucit'],\n",
       " ['a', 'b', 'c', 'd'],\n",
       " 'Usman',\n",
       " 'Haider',\n",
       " 'Ali',\n",
       " ['a', 'b', 'c', 'd']]"
      ]
     },
     "execution_count": 21,
     "metadata": {},
     "output_type": "execute_result"
    }
   ],
   "source": [
    "lst"
   ]
  },
  {
   "cell_type": "code",
   "execution_count": 22,
   "id": "0770d3c7",
   "metadata": {},
   "outputs": [],
   "source": [
    "# same goes for insert \n",
    "lst.insert(2,12)"
   ]
  },
  {
   "cell_type": "code",
   "execution_count": 23,
   "id": "e97a1ffc",
   "metadata": {},
   "outputs": [
    {
     "data": {
      "text/plain": [
       "[3.14,\n",
       " 2,\n",
       " 12,\n",
       " 12,\n",
       " 3,\n",
       " 5.67,\n",
       " 'Ai',\n",
       " ['umt', 'ucp', 'uol', 'pucit'],\n",
       " ['a', 'b', 'c', 'd'],\n",
       " 'Usman',\n",
       " 'Haider',\n",
       " 'Ali',\n",
       " ['a', 'b', 'c', 'd']]"
      ]
     },
     "execution_count": 23,
     "metadata": {},
     "output_type": "execute_result"
    }
   ],
   "source": [
    "lst"
   ]
  },
  {
   "cell_type": "code",
   "execution_count": 24,
   "id": "4749baba",
   "metadata": {},
   "outputs": [],
   "source": [
    "# we can also del remove and pop\n",
    "lst.remove('Usman')"
   ]
  },
  {
   "cell_type": "code",
   "execution_count": 25,
   "id": "6be0fde4",
   "metadata": {},
   "outputs": [
    {
     "data": {
      "text/plain": [
       "[3.14,\n",
       " 2,\n",
       " 12,\n",
       " 12,\n",
       " 3,\n",
       " 5.67,\n",
       " 'Ai',\n",
       " ['umt', 'ucp', 'uol', 'pucit'],\n",
       " ['a', 'b', 'c', 'd'],\n",
       " 'Haider',\n",
       " 'Ali',\n",
       " ['a', 'b', 'c', 'd']]"
      ]
     },
     "execution_count": 25,
     "metadata": {},
     "output_type": "execute_result"
    }
   ],
   "source": [
    "lst"
   ]
  },
  {
   "cell_type": "code",
   "execution_count": 26,
   "id": "be74d421",
   "metadata": {},
   "outputs": [],
   "source": [
    "lst.remove('Haider')"
   ]
  },
  {
   "cell_type": "code",
   "execution_count": 27,
   "id": "65c98edf",
   "metadata": {},
   "outputs": [
    {
     "data": {
      "text/plain": [
       "[3.14,\n",
       " 2,\n",
       " 12,\n",
       " 12,\n",
       " 3,\n",
       " 5.67,\n",
       " 'Ai',\n",
       " ['umt', 'ucp', 'uol', 'pucit'],\n",
       " ['a', 'b', 'c', 'd'],\n",
       " 'Ali',\n",
       " ['a', 'b', 'c', 'd']]"
      ]
     },
     "execution_count": 27,
     "metadata": {},
     "output_type": "execute_result"
    }
   ],
   "source": [
    "lst"
   ]
  },
  {
   "cell_type": "code",
   "execution_count": 28,
   "id": "165bc267",
   "metadata": {},
   "outputs": [
    {
     "data": {
      "text/plain": [
       "['a', 'b', 'c', 'd']"
      ]
     },
     "execution_count": 28,
     "metadata": {},
     "output_type": "execute_result"
    }
   ],
   "source": [
    "lst.pop()"
   ]
  },
  {
   "cell_type": "code",
   "execution_count": 29,
   "id": "4b4a24bd",
   "metadata": {},
   "outputs": [],
   "source": [
    "del lst[2]"
   ]
  },
  {
   "cell_type": "code",
   "execution_count": 30,
   "id": "94e4b398",
   "metadata": {},
   "outputs": [
    {
     "data": {
      "text/plain": [
       "[3.14,\n",
       " 2,\n",
       " 12,\n",
       " 3,\n",
       " 5.67,\n",
       " 'Ai',\n",
       " ['umt', 'ucp', 'uol', 'pucit'],\n",
       " ['a', 'b', 'c', 'd'],\n",
       " 'Ali']"
      ]
     },
     "execution_count": 30,
     "metadata": {},
     "output_type": "execute_result"
    }
   ],
   "source": [
    "lst"
   ]
  },
  {
   "cell_type": "code",
   "execution_count": 31,
   "id": "013348c3",
   "metadata": {},
   "outputs": [],
   "source": [
    "# using loop \n",
    "for i in lst:\n",
    "    for x in lst:\n",
    "        if type(x)==str:\n",
    "            lst.remove(x)"
   ]
  },
  {
   "cell_type": "code",
   "execution_count": 32,
   "id": "c728584e",
   "metadata": {},
   "outputs": [
    {
     "data": {
      "text/plain": [
       "[3.14, 2, 12, 3, 5.67, ['umt', 'ucp', 'uol', 'pucit'], ['a', 'b', 'c', 'd']]"
      ]
     },
     "execution_count": 32,
     "metadata": {},
     "output_type": "execute_result"
    }
   ],
   "source": [
    "lst"
   ]
  },
  {
   "cell_type": "code",
   "execution_count": 33,
   "id": "b08818eb",
   "metadata": {},
   "outputs": [],
   "source": [
    "lst=[2,3,4,5.6,9.8,4,77,8,66,9,59,69]"
   ]
  },
  {
   "cell_type": "code",
   "execution_count": 34,
   "id": "a05e8d4d",
   "metadata": {},
   "outputs": [
    {
     "data": {
      "text/plain": [
       "[2, 3, 4, 5.6, 9.8, 4, 77, 8, 66, 9, 59, 69]"
      ]
     },
     "execution_count": 34,
     "metadata": {},
     "output_type": "execute_result"
    }
   ],
   "source": [
    "lst"
   ]
  },
  {
   "cell_type": "code",
   "execution_count": 35,
   "id": "9882767d",
   "metadata": {},
   "outputs": [],
   "source": [
    "# we can also sort data\n",
    "lst.sort()"
   ]
  },
  {
   "cell_type": "code",
   "execution_count": 36,
   "id": "b624e228",
   "metadata": {},
   "outputs": [
    {
     "data": {
      "text/plain": [
       "[2, 3, 4, 4, 5.6, 8, 9, 9.8, 59, 66, 69, 77]"
      ]
     },
     "execution_count": 36,
     "metadata": {},
     "output_type": "execute_result"
    }
   ],
   "source": [
    "lst"
   ]
  },
  {
   "cell_type": "code",
   "execution_count": null,
   "id": "76fc0fcc",
   "metadata": {},
   "outputs": [],
   "source": []
  }
 ],
 "metadata": {
  "kernelspec": {
   "display_name": "Python 3 (ipykernel)",
   "language": "python",
   "name": "python3"
  },
  "language_info": {
   "codemirror_mode": {
    "name": "ipython",
    "version": 3
   },
   "file_extension": ".py",
   "mimetype": "text/x-python",
   "name": "python",
   "nbconvert_exporter": "python",
   "pygments_lexer": "ipython3",
   "version": "3.9.7"
  }
 },
 "nbformat": 4,
 "nbformat_minor": 5
}
