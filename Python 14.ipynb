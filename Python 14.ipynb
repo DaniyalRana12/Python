{
 "cells": [
  {
   "cell_type": "markdown",
   "id": "efeebe92",
   "metadata": {},
   "source": [
    "# Linear Regression"
   ]
  },
  {
   "cell_type": "code",
   "execution_count": null,
   "id": "2dc5acbd",
   "metadata": {},
   "outputs": [],
   "source": [
    "# Supervised learning -> label,features = known\n",
    "# Unsupervised learning -> label = unknown , features = known\n",
    "# Reinforcement learning-> "
   ]
  },
  {
   "cell_type": "code",
   "execution_count": 40,
   "id": "949c6dfa",
   "metadata": {},
   "outputs": [],
   "source": [
    "import pandas as pd\n",
    "import matplotlib.pyplot as plt\n",
    "import numpy as pod\n",
    "import seaborn as sns"
   ]
  },
  {
   "cell_type": "code",
   "execution_count": 41,
   "id": "d40085f8",
   "metadata": {},
   "outputs": [],
   "source": [
    "df =pd.read_csv('USA_Housing.csv')"
   ]
  },
  {
   "cell_type": "code",
   "execution_count": 42,
   "id": "dfddc6d2",
   "metadata": {},
   "outputs": [
    {
     "data": {
      "text/plain": [
       "Index(['Avg. Area Income', 'Avg. Area House Age', 'Avg. Area Number of Rooms',\n",
       "       'Avg. Area Number of Bedrooms', 'Area Population', 'Price', 'Address'],\n",
       "      dtype='object')"
      ]
     },
     "execution_count": 42,
     "metadata": {},
     "output_type": "execute_result"
    }
   ],
   "source": [
    "df.columns"
   ]
  },
  {
   "cell_type": "code",
   "execution_count": 43,
   "id": "55610ac7",
   "metadata": {},
   "outputs": [],
   "source": [
    "x=df[['Avg. Area Income', 'Avg. Area House Age', 'Avg. Area Number of Rooms',\n",
    "       'Avg. Area Number of Bedrooms', 'Area Population']]"
   ]
  },
  {
   "cell_type": "code",
   "execution_count": 44,
   "id": "05eda2aa",
   "metadata": {},
   "outputs": [],
   "source": [
    "y=df['Price']"
   ]
  },
  {
   "cell_type": "code",
   "execution_count": 45,
   "id": "77da0db3",
   "metadata": {},
   "outputs": [
    {
     "data": {
      "text/plain": [
       "0       1.059034e+06\n",
       "1       1.505891e+06\n",
       "2       1.058988e+06\n",
       "3       1.260617e+06\n",
       "4       6.309435e+05\n",
       "            ...     \n",
       "4995    1.060194e+06\n",
       "4996    1.482618e+06\n",
       "4997    1.030730e+06\n",
       "4998    1.198657e+06\n",
       "4999    1.298950e+06\n",
       "Name: Price, Length: 5000, dtype: float64"
      ]
     },
     "execution_count": 45,
     "metadata": {},
     "output_type": "execute_result"
    }
   ],
   "source": [
    "y"
   ]
  },
  {
   "cell_type": "code",
   "execution_count": 46,
   "id": "d397d606",
   "metadata": {},
   "outputs": [],
   "source": [
    "from sklearn.model_selection import train_test_split\n",
    "from sklearn.linear_model import LinearRegression "
   ]
  },
  {
   "cell_type": "code",
   "execution_count": 47,
   "id": "68ded457",
   "metadata": {},
   "outputs": [],
   "source": [
    "x_train,x_test,y_train,y_test= train_test_split(x,y,test_size=0.2,random_state=41)"
   ]
  },
  {
   "cell_type": "code",
   "execution_count": 48,
   "id": "56edb50d",
   "metadata": {},
   "outputs": [
    {
     "data": {
      "text/html": [
       "<div>\n",
       "<style scoped>\n",
       "    .dataframe tbody tr th:only-of-type {\n",
       "        vertical-align: middle;\n",
       "    }\n",
       "\n",
       "    .dataframe tbody tr th {\n",
       "        vertical-align: top;\n",
       "    }\n",
       "\n",
       "    .dataframe thead th {\n",
       "        text-align: right;\n",
       "    }\n",
       "</style>\n",
       "<table border=\"1\" class=\"dataframe\">\n",
       "  <thead>\n",
       "    <tr style=\"text-align: right;\">\n",
       "      <th></th>\n",
       "      <th>Avg. Area Income</th>\n",
       "      <th>Avg. Area House Age</th>\n",
       "      <th>Avg. Area Number of Rooms</th>\n",
       "      <th>Avg. Area Number of Bedrooms</th>\n",
       "      <th>Area Population</th>\n",
       "    </tr>\n",
       "  </thead>\n",
       "  <tbody>\n",
       "    <tr>\n",
       "      <th>4156</th>\n",
       "      <td>73907.479047</td>\n",
       "      <td>5.478497</td>\n",
       "      <td>7.509485</td>\n",
       "      <td>6.36</td>\n",
       "      <td>37171.011356</td>\n",
       "    </tr>\n",
       "    <tr>\n",
       "      <th>3261</th>\n",
       "      <td>74360.180214</td>\n",
       "      <td>5.691122</td>\n",
       "      <td>8.373043</td>\n",
       "      <td>6.22</td>\n",
       "      <td>32337.483884</td>\n",
       "    </tr>\n",
       "    <tr>\n",
       "      <th>2005</th>\n",
       "      <td>64494.479764</td>\n",
       "      <td>6.058062</td>\n",
       "      <td>7.528962</td>\n",
       "      <td>3.44</td>\n",
       "      <td>29404.067583</td>\n",
       "    </tr>\n",
       "    <tr>\n",
       "      <th>2379</th>\n",
       "      <td>49345.424446</td>\n",
       "      <td>6.276724</td>\n",
       "      <td>8.123990</td>\n",
       "      <td>5.04</td>\n",
       "      <td>15113.587197</td>\n",
       "    </tr>\n",
       "    <tr>\n",
       "      <th>1765</th>\n",
       "      <td>58655.854097</td>\n",
       "      <td>5.857894</td>\n",
       "      <td>6.630832</td>\n",
       "      <td>4.02</td>\n",
       "      <td>40740.780151</td>\n",
       "    </tr>\n",
       "    <tr>\n",
       "      <th>...</th>\n",
       "      <td>...</td>\n",
       "      <td>...</td>\n",
       "      <td>...</td>\n",
       "      <td>...</td>\n",
       "      <td>...</td>\n",
       "    </tr>\n",
       "    <tr>\n",
       "      <th>321</th>\n",
       "      <td>76192.656036</td>\n",
       "      <td>7.303750</td>\n",
       "      <td>7.337590</td>\n",
       "      <td>6.33</td>\n",
       "      <td>21245.841619</td>\n",
       "    </tr>\n",
       "    <tr>\n",
       "      <th>4066</th>\n",
       "      <td>52840.211157</td>\n",
       "      <td>6.855066</td>\n",
       "      <td>6.855513</td>\n",
       "      <td>4.06</td>\n",
       "      <td>40736.738074</td>\n",
       "    </tr>\n",
       "    <tr>\n",
       "      <th>3980</th>\n",
       "      <td>72899.658203</td>\n",
       "      <td>5.222040</td>\n",
       "      <td>6.861010</td>\n",
       "      <td>4.21</td>\n",
       "      <td>39311.147543</td>\n",
       "    </tr>\n",
       "    <tr>\n",
       "      <th>931</th>\n",
       "      <td>73386.407340</td>\n",
       "      <td>4.966360</td>\n",
       "      <td>7.915453</td>\n",
       "      <td>4.30</td>\n",
       "      <td>38413.490484</td>\n",
       "    </tr>\n",
       "    <tr>\n",
       "      <th>1984</th>\n",
       "      <td>55456.773236</td>\n",
       "      <td>5.805462</td>\n",
       "      <td>5.340591</td>\n",
       "      <td>2.14</td>\n",
       "      <td>37009.336022</td>\n",
       "    </tr>\n",
       "  </tbody>\n",
       "</table>\n",
       "<p>4000 rows × 5 columns</p>\n",
       "</div>"
      ],
      "text/plain": [
       "      Avg. Area Income  Avg. Area House Age  Avg. Area Number of Rooms  \\\n",
       "4156      73907.479047             5.478497                   7.509485   \n",
       "3261      74360.180214             5.691122                   8.373043   \n",
       "2005      64494.479764             6.058062                   7.528962   \n",
       "2379      49345.424446             6.276724                   8.123990   \n",
       "1765      58655.854097             5.857894                   6.630832   \n",
       "...                ...                  ...                        ...   \n",
       "321       76192.656036             7.303750                   7.337590   \n",
       "4066      52840.211157             6.855066                   6.855513   \n",
       "3980      72899.658203             5.222040                   6.861010   \n",
       "931       73386.407340             4.966360                   7.915453   \n",
       "1984      55456.773236             5.805462                   5.340591   \n",
       "\n",
       "      Avg. Area Number of Bedrooms  Area Population  \n",
       "4156                          6.36     37171.011356  \n",
       "3261                          6.22     32337.483884  \n",
       "2005                          3.44     29404.067583  \n",
       "2379                          5.04     15113.587197  \n",
       "1765                          4.02     40740.780151  \n",
       "...                            ...              ...  \n",
       "321                           6.33     21245.841619  \n",
       "4066                          4.06     40736.738074  \n",
       "3980                          4.21     39311.147543  \n",
       "931                           4.30     38413.490484  \n",
       "1984                          2.14     37009.336022  \n",
       "\n",
       "[4000 rows x 5 columns]"
      ]
     },
     "execution_count": 48,
     "metadata": {},
     "output_type": "execute_result"
    }
   ],
   "source": [
    "x_train"
   ]
  },
  {
   "cell_type": "code",
   "execution_count": 49,
   "id": "2278ecb2",
   "metadata": {},
   "outputs": [
    {
     "data": {
      "text/html": [
       "<div>\n",
       "<style scoped>\n",
       "    .dataframe tbody tr th:only-of-type {\n",
       "        vertical-align: middle;\n",
       "    }\n",
       "\n",
       "    .dataframe tbody tr th {\n",
       "        vertical-align: top;\n",
       "    }\n",
       "\n",
       "    .dataframe thead th {\n",
       "        text-align: right;\n",
       "    }\n",
       "</style>\n",
       "<table border=\"1\" class=\"dataframe\">\n",
       "  <thead>\n",
       "    <tr style=\"text-align: right;\">\n",
       "      <th></th>\n",
       "      <th>Avg. Area Income</th>\n",
       "      <th>Avg. Area House Age</th>\n",
       "      <th>Avg. Area Number of Rooms</th>\n",
       "      <th>Avg. Area Number of Bedrooms</th>\n",
       "      <th>Area Population</th>\n",
       "    </tr>\n",
       "  </thead>\n",
       "  <tbody>\n",
       "    <tr>\n",
       "      <th>3860</th>\n",
       "      <td>58970.579567</td>\n",
       "      <td>5.686393</td>\n",
       "      <td>7.688319</td>\n",
       "      <td>6.22</td>\n",
       "      <td>18991.777168</td>\n",
       "    </tr>\n",
       "    <tr>\n",
       "      <th>2982</th>\n",
       "      <td>53120.629247</td>\n",
       "      <td>6.812373</td>\n",
       "      <td>9.200246</td>\n",
       "      <td>5.39</td>\n",
       "      <td>36100.577177</td>\n",
       "    </tr>\n",
       "    <tr>\n",
       "      <th>4809</th>\n",
       "      <td>70486.899748</td>\n",
       "      <td>5.786071</td>\n",
       "      <td>6.997700</td>\n",
       "      <td>3.09</td>\n",
       "      <td>26725.637973</td>\n",
       "    </tr>\n",
       "    <tr>\n",
       "      <th>1491</th>\n",
       "      <td>82336.992454</td>\n",
       "      <td>6.553922</td>\n",
       "      <td>6.289607</td>\n",
       "      <td>3.06</td>\n",
       "      <td>37965.374207</td>\n",
       "    </tr>\n",
       "    <tr>\n",
       "      <th>1679</th>\n",
       "      <td>63049.974888</td>\n",
       "      <td>5.560579</td>\n",
       "      <td>6.194546</td>\n",
       "      <td>3.42</td>\n",
       "      <td>24985.977999</td>\n",
       "    </tr>\n",
       "    <tr>\n",
       "      <th>...</th>\n",
       "      <td>...</td>\n",
       "      <td>...</td>\n",
       "      <td>...</td>\n",
       "      <td>...</td>\n",
       "      <td>...</td>\n",
       "    </tr>\n",
       "    <tr>\n",
       "      <th>1257</th>\n",
       "      <td>72692.590859</td>\n",
       "      <td>6.262823</td>\n",
       "      <td>8.606954</td>\n",
       "      <td>3.06</td>\n",
       "      <td>33125.496428</td>\n",
       "    </tr>\n",
       "    <tr>\n",
       "      <th>150</th>\n",
       "      <td>69401.847217</td>\n",
       "      <td>7.042355</td>\n",
       "      <td>8.097044</td>\n",
       "      <td>3.44</td>\n",
       "      <td>29293.074049</td>\n",
       "    </tr>\n",
       "    <tr>\n",
       "      <th>1184</th>\n",
       "      <td>57736.428389</td>\n",
       "      <td>7.409373</td>\n",
       "      <td>7.450341</td>\n",
       "      <td>4.29</td>\n",
       "      <td>45688.102500</td>\n",
       "    </tr>\n",
       "    <tr>\n",
       "      <th>3531</th>\n",
       "      <td>67094.114203</td>\n",
       "      <td>5.869169</td>\n",
       "      <td>4.714623</td>\n",
       "      <td>4.35</td>\n",
       "      <td>27883.677324</td>\n",
       "    </tr>\n",
       "    <tr>\n",
       "      <th>4075</th>\n",
       "      <td>79663.797397</td>\n",
       "      <td>6.679506</td>\n",
       "      <td>5.233763</td>\n",
       "      <td>3.00</td>\n",
       "      <td>32806.854950</td>\n",
       "    </tr>\n",
       "  </tbody>\n",
       "</table>\n",
       "<p>1000 rows × 5 columns</p>\n",
       "</div>"
      ],
      "text/plain": [
       "      Avg. Area Income  Avg. Area House Age  Avg. Area Number of Rooms  \\\n",
       "3860      58970.579567             5.686393                   7.688319   \n",
       "2982      53120.629247             6.812373                   9.200246   \n",
       "4809      70486.899748             5.786071                   6.997700   \n",
       "1491      82336.992454             6.553922                   6.289607   \n",
       "1679      63049.974888             5.560579                   6.194546   \n",
       "...                ...                  ...                        ...   \n",
       "1257      72692.590859             6.262823                   8.606954   \n",
       "150       69401.847217             7.042355                   8.097044   \n",
       "1184      57736.428389             7.409373                   7.450341   \n",
       "3531      67094.114203             5.869169                   4.714623   \n",
       "4075      79663.797397             6.679506                   5.233763   \n",
       "\n",
       "      Avg. Area Number of Bedrooms  Area Population  \n",
       "3860                          6.22     18991.777168  \n",
       "2982                          5.39     36100.577177  \n",
       "4809                          3.09     26725.637973  \n",
       "1491                          3.06     37965.374207  \n",
       "1679                          3.42     24985.977999  \n",
       "...                            ...              ...  \n",
       "1257                          3.06     33125.496428  \n",
       "150                           3.44     29293.074049  \n",
       "1184                          4.29     45688.102500  \n",
       "3531                          4.35     27883.677324  \n",
       "4075                          3.00     32806.854950  \n",
       "\n",
       "[1000 rows x 5 columns]"
      ]
     },
     "execution_count": 49,
     "metadata": {},
     "output_type": "execute_result"
    }
   ],
   "source": [
    "x_test"
   ]
  },
  {
   "cell_type": "code",
   "execution_count": 50,
   "id": "f2a60b4a",
   "metadata": {},
   "outputs": [],
   "source": [
    "lm=LinearRegression()"
   ]
  },
  {
   "cell_type": "code",
   "execution_count": 51,
   "id": "5b5b3cae",
   "metadata": {},
   "outputs": [
    {
     "data": {
      "text/plain": [
       "LinearRegression()"
      ]
     },
     "execution_count": 51,
     "metadata": {},
     "output_type": "execute_result"
    }
   ],
   "source": [
    "lm.fit(x_train,y_train)"
   ]
  },
  {
   "cell_type": "code",
   "execution_count": 52,
   "id": "c462136c",
   "metadata": {},
   "outputs": [
    {
     "data": {
      "text/plain": [
       "array([2.16061158e+01, 1.65586161e+05, 1.20559762e+05, 1.26190094e+03,\n",
       "       1.52175095e+01])"
      ]
     },
     "execution_count": 52,
     "metadata": {},
     "output_type": "execute_result"
    }
   ],
   "source": [
    "lm.coef_"
   ]
  },
  {
   "cell_type": "code",
   "execution_count": 53,
   "id": "3cd49b82",
   "metadata": {},
   "outputs": [
    {
     "data": {
      "text/plain": [
       "-2637092.187658512"
      ]
     },
     "execution_count": 53,
     "metadata": {},
     "output_type": "execute_result"
    }
   ],
   "source": [
    "lm.intercept_"
   ]
  },
  {
   "cell_type": "code",
   "execution_count": 54,
   "id": "b923ea8c",
   "metadata": {},
   "outputs": [],
   "source": [
    "pred=lm.predict(x_test)"
   ]
  },
  {
   "cell_type": "code",
   "execution_count": 55,
   "id": "e97c11aa",
   "metadata": {},
   "outputs": [
    {
     "data": {
      "text/plain": [
       "<matplotlib.collections.PathCollection at 0x2b320e9c9d0>"
      ]
     },
     "execution_count": 55,
     "metadata": {},
     "output_type": "execute_result"
    },
    {
     "data": {
      "image/png": "[encoded data removed]",
      "text/plain": [
       "<Figure size 432x288 with 1 Axes>"
      ]
     },
     "metadata": {
      "needs_background": "light"
     },
     "output_type": "display_data"
    }
   ],
   "source": [
    "plt.scatter(y_test,pred)"
   ]
  },
  {
   "cell_type": "code",
   "execution_count": null,
   "id": "c6eb6717",
   "metadata": {},
   "outputs": [],
   "source": []
  }
 ],
 "metadata": {
  "kernelspec": {
   "display_name": "Python 3",
   "language": "python",
   "name": "python3"
  },
  "language_info": {
   "codemirror_mode": {
    "name": "ipython",
    "version": 3
   },
   "file_extension": ".py",
   "mimetype": "text/x-python",
   "name": "python",
   "nbconvert_exporter": "python",
   "pygments_lexer": "ipython3",
   "version": "3.8.8"
  }
 },
 "nbformat": 4,
 "nbformat_minor": 5
}
