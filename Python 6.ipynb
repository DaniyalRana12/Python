{
 "cells": [
  {
   "cell_type": "code",
   "execution_count": 14,
   "id": "78c6f2c5",
   "metadata": {},
   "outputs": [
    {
     "name": "stdout",
     "output_type": "stream",
     "text": [
      "Enter an object's mass: 10\n"
     ]
    }
   ],
   "source": [
    "#Program to calculate weight \n",
    "#of an object\n",
    "mass = float(input(\"Enter an object\\'s mass: \"))\n",
    "weight = mass * 9.8\n",
    "if weight > 1000:\n",
    "    print(\"Object is too heavy\\n\")\n",
    "elif weight < 10:\n",
    "    print(\"Object is too light\\n\")\n"
   ]
  },
  {
   "cell_type": "code",
   "execution_count": null,
   "id": "fdebeea6",
   "metadata": {},
   "outputs": [],
   "source": []
  }
 ],
 "metadata": {
  "kernelspec": {
   "display_name": "Python 3 (ipykernel)",
   "language": "python",
   "name": "python3"
  },
  "language_info": {
   "codemirror_mode": {
    "name": "ipython",
    "version": 3
   },
   "file_extension": ".py",
   "mimetype": "text/x-python",
   "name": "python",
   "nbconvert_exporter": "python",
   "pygments_lexer": "ipython3",
   "version": "3.9.7"
  }
 },
 "nbformat": 4,
 "nbformat_minor": 5
}
