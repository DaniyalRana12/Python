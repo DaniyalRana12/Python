{
 "cells": [
  {
   "cell_type": "code",
   "execution_count": 1,
   "id": "a73fa758",
   "metadata": {},
   "outputs": [
    {
     "name": "stdout",
     "output_type": "stream",
     "text": [
      "Enter Value of x: \n",
      "15\n",
      "F\n"
     ]
    }
   ],
   "source": [
    "#Program to calculate the ascii of an enntered number\n",
    "#Only if number is greater than 10\n",
    "x=int(input(\"Enter Value of x: \\n\"))\n",
    "if x>=0 and x<=9:\n",
    "    print(\"Value of x is: \",x)\n",
    "else:\n",
    "    x=x+55\n",
    "    print(chr(x))"
   ]
  },
  {
   "cell_type": "code",
   "execution_count": null,
   "id": "7391d75a",
   "metadata": {},
   "outputs": [],
   "source": []
  }
 ],
 "metadata": {
  "kernelspec": {
   "display_name": "Python 3 (ipykernel)",
   "language": "python",
   "name": "python3"
  },
  "language_info": {
   "codemirror_mode": {
    "name": "ipython",
    "version": 3
   },
   "file_extension": ".py",
   "mimetype": "text/x-python",
   "name": "python",
   "nbconvert_exporter": "python",
   "pygments_lexer": "ipython3",
   "version": "3.9.7"
  }
 },
 "nbformat": 4,
 "nbformat_minor": 5
}
